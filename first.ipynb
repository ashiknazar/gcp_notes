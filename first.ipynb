{
 "cells": [
  {
   "cell_type": "markdown",
   "metadata": {},
   "source": [
    "## services offered\n",
    "- computing\n",
    " - machines which are compute optimized\n",
    " - \"\" which are memory optimized\n",
    " - \"\"  storage optimized\n",
    " -  premption - far less price - can be taken back at any time and got by request on demand\n",
    "- networking\n",
    "- machine learning\n",
    "- big data\n",
    "\n",
    "\n"
   ]
  },
  {
   "cell_type": "markdown",
   "metadata": {},
   "source": [
    "![google platform domains](gcp_dom.png\n",
    ")"
   ]
  },
  {
   "cell_type": "markdown",
   "metadata": {},
   "source": [
    "### compute\n",
    "- allows for compute and hosting the cloud.\n",
    "- App Engine\n",
    "- Compute Engine\n",
    "- Kubernetes Engine\n",
    "- Cloud Functions\n",
    "- Cloud Run\n",
    "### storage and database\n",
    "-  to store media files ,backups\n",
    "- cloud storage \n",
    "- cloud sql\n",
    "- cloud bigtable\n",
    "- cloud spanner\n",
    "- cloud datastore\n",
    "- persistent disk\n",
    "- cloud memory store\n",
    "### networking\n",
    "- allows us to loadbalance traffic across resources ,create dns records\n",
    "- vpc\n",
    "- cloud loadbalancing\n",
    "- cloud armor\n",
    "- cloud cdn\n",
    "- cloud interconnect\n",
    "- cloud dns\n",
    "- network service tiers\n",
    "### big data\n",
    "- bigquery \n",
    "- cloud\n",
    "- cloud dataprep\n",
    "- cloud dataproc\n",
    "- cloud composer\n",
    "- cloud datalab\n",
    "- cloud pub/sub\n",
    "- cloud datastudio\n",
    "### developer tools\n",
    "- cloud sdk\n",
    "- deployment manager\n",
    "- cloud source \n",
    "- repositories\n",
    "- cloud test lab\n"
   ]
  },
  {
   "cell_type": "markdown",
   "metadata": {},
   "source": [
    "### identity and security\n",
    "- cloud identity\n",
    "- cloud iam\n",
    "- cloud identity aware proxy\n",
    "- cloud data loss prevention api\n",
    "- security key enforcement\n",
    "- cloud key management servies and many more\n",
    "### internet of thinks\n",
    "- cloud iot core\n",
    "- edge tpu \n",
    "- cloud iot\n",
    " \n",
    "### cloud ai\n",
    "- cloud automl\n",
    "- cloud tpu\n",
    "- cloud machine learning engine\n",
    "- cloud job discovery \n",
    "- dialogflow enterprise\n",
    "- cloud natural language\n",
    "- cloud text to speech\n",
    "\n",
    "### api platform\n",
    "- maps platform\n",
    "- apigee api platform\n",
    "- api monetization\n",
    "- developer portal\n",
    "- api analytics\n",
    "- apigee sense\n",
    "- cloud endpoints\n",
    "- service infrastructure\n"
   ]
  },
  {
   "cell_type": "markdown",
   "metadata": {},
   "source": [
    "##### cloud shell\n",
    " \n",
    " - gcloud\n",
    " - gcloud help\n",
    " - gcloud compute instances create ...\n",
    " "
   ]
  },
  {
   "cell_type": "markdown",
   "metadata": {},
   "source": [
    "___\n",
    "##### compute engine\n",
    "- vm instances\n",
    " - for windows ,linux,custom images,"
   ]
  },
  {
   "cell_type": "markdown",
   "metadata": {},
   "source": []
  },
  {
   "cell_type": "markdown",
   "metadata": {},
   "source": []
  }
 ],
 "metadata": {
  "language_info": {
   "name": "python"
  }
 },
 "nbformat": 4,
 "nbformat_minor": 2
}
